{
 "cells": [
  {
   "cell_type": "markdown",
   "metadata": {},
   "source": [
    "# Importing Libraries"
   ]
  },
  {
   "cell_type": "code",
   "execution_count": 9,
   "metadata": {},
   "outputs": [],
   "source": [
    "import torch\n",
    "import torch.nn as nn\n",
    "import matplotlib.pyplot as plt\n",
    "import numpy as np\n",
    "from torch.utils.data import Dataset, DataLoader"
   ]
  },
  {
   "cell_type": "code",
   "execution_count": 3,
   "metadata": {},
   "outputs": [],
   "source": [
    "def plot_data(data_set, model = None, n = 1, color = False):\n",
    "    X = data_set[:][0]\n",
    "    Y = data_set[:][1]\n",
    "    plt.plot(X[Y == 0, 0].numpy(), Y[Y == 0].numpy(), 'bo', label = 'y = 0')\n",
    "    plt.plot(X[Y == 1, 0].numpy(), 0 * Y[Y == 1].numpy(), 'ro', label = 'y = 1')\n",
    "    plt.plot(X[Y == 2, 0].numpy(), 0 * Y[Y == 2].numpy(), 'go', label = 'y = 2')\n",
    "    plt.ylim((-0.1, 3))\n",
    "    plt.legend()\n",
    "    if model != None:\n",
    "        w = list(model.parameters())[0][0].detach()\n",
    "        b = list(model.parameters())[1][0].detach()\n",
    "        y_label = ['yhat=0', 'yhat=1', 'yhat=2']\n",
    "        y_color = ['b', 'r', 'g']\n",
    "        Y = []\n",
    "        for w, b, y_l, y_c in zip(model.state_dict()['0.weight'], model.state_dict()['0.bias'], y_label, y_color):\n",
    "            Y.append((w * X + b).numpy())\n",
    "            plt.plot(X.numpy(), (w * X + b).numpy(), y_c, label = y_l)\n",
    "        if color == True:\n",
    "            x = X.numpy()\n",
    "            x = x.reshape(-1)\n",
    "            top = np.ones(x.shape)\n",
    "            y0 = Y[0].reshape(-1)\n",
    "            y1 = Y[1].reshape(-1)\n",
    "            y2 = Y[2].reshape(-1)\n",
    "            plt.fill_between(x, y0, where = y1 > y1, interpolate = True, color = 'blue')\n",
    "            plt.fill_between(x, y0, where = y1 > y2, interpolate = True, color = 'blue')\n",
    "            plt.fill_between(x, y1, where = y1 > y0, interpolate = True, color = 'red')\n",
    "            plt.fill_between(x, y1, where = ((y1 > y2) * (y1 > y0)),interpolate = True, color = 'red')\n",
    "            plt.fill_between(x, y2, where = (y2 > y0) * (y0 > 0),interpolate = True, color = 'green')\n",
    "            plt.fill_between(x, y2, where = (y2 > y1), interpolate = True, color = 'green')\n",
    "    plt.legend()\n",
    "    plt.show()"
   ]
  },
  {
   "cell_type": "code",
   "execution_count": 4,
   "metadata": {},
   "outputs": [
    {
     "data": {
      "text/plain": [
       "<torch._C.Generator at 0x1b785854750>"
      ]
     },
     "execution_count": 4,
     "metadata": {},
     "output_type": "execute_result"
    }
   ],
   "source": [
    "torch.manual_seed(0)"
   ]
  },
  {
   "cell_type": "markdown",
   "metadata": {},
   "source": [
    "# Data Prepration"
   ]
  },
  {
   "cell_type": "code",
   "execution_count": 5,
   "metadata": {},
   "outputs": [],
   "source": [
    "class Data(Dataset):\n",
    "    def __init__(self):\n",
    "        self.x = torch.arange(-2, 2, 0.1).view(-1, 1)\n",
    "        self.y = torch.zeros(self.x.shape[0])\n",
    "        self.y[(self.x > -1.0)[:, 0] * (self.x < 1.0)[:, 0]] = 1\n",
    "        self.y[(self.x >= 1.0)[:, 0]] = 2\n",
    "        self.y = self.y.type(torch.LongTensor)\n",
    "        self.len = self.x.shape[0]\n",
    "        \n",
    "    def __getitem__(self, index):\n",
    "        return self.x[index], self.y[index]\n",
    "    \n",
    "    def __len__(self):\n",
    "        return self.len"
   ]
  },
  {
   "cell_type": "code",
   "execution_count": 7,
   "metadata": {},
   "outputs": [
    {
     "name": "stdout",
     "output_type": "stream",
     "text": [
      "tensor([[-2.0000],\n",
      "        [-1.9000],\n",
      "        [-1.8000],\n",
      "        [-1.7000],\n",
      "        [-1.6000],\n",
      "        [-1.5000],\n",
      "        [-1.4000],\n",
      "        [-1.3000],\n",
      "        [-1.2000],\n",
      "        [-1.1000],\n",
      "        [-1.0000],\n",
      "        [-0.9000],\n",
      "        [-0.8000],\n",
      "        [-0.7000],\n",
      "        [-0.6000],\n",
      "        [-0.5000],\n",
      "        [-0.4000],\n",
      "        [-0.3000],\n",
      "        [-0.2000],\n",
      "        [-0.1000],\n",
      "        [ 0.0000],\n",
      "        [ 0.1000],\n",
      "        [ 0.2000],\n",
      "        [ 0.3000],\n",
      "        [ 0.4000],\n",
      "        [ 0.5000],\n",
      "        [ 0.6000],\n",
      "        [ 0.7000],\n",
      "        [ 0.8000],\n",
      "        [ 0.9000],\n",
      "        [ 1.0000],\n",
      "        [ 1.1000],\n",
      "        [ 1.2000],\n",
      "        [ 1.3000],\n",
      "        [ 1.4000],\n",
      "        [ 1.5000],\n",
      "        [ 1.6000],\n",
      "        [ 1.7000],\n",
      "        [ 1.8000],\n",
      "        [ 1.9000]])\n"
     ]
    },
    {
     "data": {
      "image/png": "[encoded data removed]",
      "text/plain": [
       "<Figure size 432x288 with 1 Axes>"
      ]
     },
     "metadata": {
      "needs_background": "light"
     },
     "output_type": "display_data"
    }
   ],
   "source": [
    "data_set = Data()\n",
    "print(data_set.x)\n",
    "plot_data(data_set)"
   ]
  },
  {
   "cell_type": "markdown",
   "metadata": {},
   "source": [
    "# Softmax Classifier"
   ]
  },
  {
   "cell_type": "code",
   "execution_count": 10,
   "metadata": {},
   "outputs": [
    {
     "data": {
      "text/plain": [
       "OrderedDict([('0.weight',\n",
       "              tensor([[-0.0075],\n",
       "                      [ 0.5364],\n",
       "                      [-0.8230]])),\n",
       "             ('0.bias', tensor([-0.7359, -0.3852,  0.2682]))])"
      ]
     },
     "execution_count": 10,
     "metadata": {},
     "output_type": "execute_result"
    }
   ],
   "source": [
    "model = nn.Sequential(nn.Linear(1, 3))\n",
    "model.state_dict()"
   ]
  },
  {
   "cell_type": "markdown",
   "metadata": {},
   "source": [
    "# Training"
   ]
  },
  {
   "cell_type": "code",
   "execution_count": 11,
   "metadata": {},
   "outputs": [],
   "source": [
    "criterion = nn.CrossEntropyLoss()\n",
    "optimizer = torch.optim.SGD(model.parameters(), lr = 0.01)\n",
    "trainloader = DataLoader(dataset = data_set, batch_size = 5)"
   ]
  },
  {
   "cell_type": "code",
   "execution_count": 12,
   "metadata": {},
   "outputs": [
    {
     "data": {
      "image/png": "[encoded data removed]",
      "text/plain": [
       "<Figure size 432x288 with 1 Axes>"
      ]
     },
     "metadata": {
      "needs_background": "light"
     },
     "output_type": "display_data"
    },
    {
     "data": {
      "image/png": "[encoded data removed]",
      "text/plain": [
       "<Figure size 432x288 with 1 Axes>"
      ]
     },
     "metadata": {
      "needs_background": "light"
     },
     "output_type": "display_data"
    }
   ],
   "source": [
    "LOSS = []\n",
    "def train_model(epochs):\n",
    "    for epoch in range(epochs):\n",
    "        if epoch % 50 == 0:\n",
    "            plot_data(data_set, model)\n",
    "        for x, y in trainloader:\n",
    "            optimizer.zero_grad()\n",
    "            yhat = model(x)\n",
    "            loss = criterion(yhat, y)\n",
    "            LOSS.append(loss)\n",
    "            loss.backward()\n",
    "            optimizer.step()\n",
    "train_model(100)"
   ]
  },
  {
   "cell_type": "markdown",
   "metadata": {},
   "source": [
    "# Analyze the Results"
   ]
  },
  {
   "cell_type": "code",
   "execution_count": 13,
   "metadata": {},
   "outputs": [
    {
     "name": "stdout",
     "output_type": "stream",
     "text": [
      "tensor([0, 0, 0, 0, 0, 0, 0, 0, 0, 0, 0, 0, 1, 1, 1, 1, 1, 1, 1, 1, 1, 1, 1, 1,\n",
      "        1, 1, 1, 1, 1, 2, 2, 2, 2, 2, 2, 2, 2, 2, 2, 2])\n"
     ]
    }
   ],
   "source": [
    "z = model(data_set.x)\n",
    "_, yhat = z.max(1)\n",
    "print(yhat)"
   ]
  },
  {
   "cell_type": "code",
   "execution_count": 15,
   "metadata": {},
   "outputs": [
    {
     "data": {
      "text/plain": [
       "0.95"
      ]
     },
     "execution_count": 15,
     "metadata": {},
     "output_type": "execute_result"
    }
   ],
   "source": [
    "correct = (data_set.y == yhat).sum().item()\n",
    "accuracy = correct / len(data_set)\n",
    "accuracy"
   ]
  },
  {
   "cell_type": "code",
   "execution_count": 18,
   "metadata": {},
   "outputs": [
    {
     "data": {
      "text/plain": [
       "tensor([[ 2.0092,  0.3855, -2.6595],\n",
       "        [ 1.8709,  0.3858, -2.5509],\n",
       "        [ 1.7326,  0.3860, -2.4422],\n",
       "        [ 1.5943,  0.3862, -2.3335],\n",
       "        [ 1.4560,  0.3865, -2.2248],\n",
       "        [ 1.3176,  0.3867, -2.1161],\n",
       "        [ 1.1793,  0.3869, -2.0075],\n",
       "        [ 1.0410,  0.3871, -1.8988],\n",
       "        [ 0.9027,  0.3874, -1.7901],\n",
       "        [ 0.7644,  0.3876, -1.6814],\n",
       "        [ 0.6261,  0.3878, -1.5727],\n",
       "        [ 0.4877,  0.3881, -1.4641],\n",
       "        [ 0.3494,  0.3883, -1.3554],\n",
       "        [ 0.2111,  0.3885, -1.2467],\n",
       "        [ 0.0728,  0.3887, -1.1380],\n",
       "        [-0.0655,  0.3890, -1.0293],\n",
       "        [-0.2038,  0.3892, -0.9207],\n",
       "        [-0.3422,  0.3894, -0.8120],\n",
       "        [-0.4805,  0.3896, -0.7033],\n",
       "        [-0.6188,  0.3899, -0.5946],\n",
       "        [-0.7571,  0.3901, -0.4859],\n",
       "        [-0.8954,  0.3903, -0.3773],\n",
       "        [-1.0337,  0.3906, -0.2686],\n",
       "        [-1.1721,  0.3908, -0.1599],\n",
       "        [-1.3104,  0.3910, -0.0512],\n",
       "        [-1.4487,  0.3912,  0.0575],\n",
       "        [-1.5870,  0.3915,  0.1661],\n",
       "        [-1.7253,  0.3917,  0.2748],\n",
       "        [-1.8636,  0.3919,  0.3835],\n",
       "        [-2.0020,  0.3922,  0.4922],\n",
       "        [-2.1403,  0.3924,  0.6009],\n",
       "        [-2.2786,  0.3926,  0.7095],\n",
       "        [-2.4169,  0.3928,  0.8182],\n",
       "        [-2.5552,  0.3931,  0.9269],\n",
       "        [-2.6935,  0.3933,  1.0356],\n",
       "        [-2.8319,  0.3935,  1.1443],\n",
       "        [-2.9702,  0.3938,  1.2529],\n",
       "        [-3.1085,  0.3940,  1.3616],\n",
       "        [-3.2468,  0.3942,  1.4703],\n",
       "        [-3.3851,  0.3944,  1.5790]], grad_fn=<AddmmBackward>)"
      ]
     },
     "execution_count": 18,
     "metadata": {},
     "output_type": "execute_result"
    }
   ],
   "source": [
    "z"
   ]
  },
  {
   "cell_type": "code",
   "execution_count": 16,
   "metadata": {},
   "outputs": [],
   "source": [
    "Softmax_fn = nn.Softmax(dim=-1)"
   ]
  },
  {
   "cell_type": "code",
   "execution_count": 17,
   "metadata": {},
   "outputs": [
    {
     "data": {
      "text/plain": [
       "tensor([[0.8288, 0.1634, 0.0078],\n",
       "        [0.8074, 0.1829, 0.0097],\n",
       "        [0.7840, 0.2039, 0.0121],\n",
       "        [0.7585, 0.2266, 0.0149],\n",
       "        [0.7308, 0.2508, 0.0184],\n",
       "        [0.7010, 0.2763, 0.0226],\n",
       "        [0.6693, 0.3030, 0.0276],\n",
       "        [0.6358, 0.3306, 0.0336],\n",
       "        [0.6006, 0.3587, 0.0407],\n",
       "        [0.5641, 0.3870, 0.0489],\n",
       "        [0.5266, 0.4150, 0.0584],\n",
       "        [0.4885, 0.4421, 0.0694],\n",
       "        [0.4502, 0.4680, 0.0818],\n",
       "        [0.4121, 0.4920, 0.0959],\n",
       "        [0.3746, 0.5138, 0.1116],\n",
       "        [0.3382, 0.5328, 0.1290],\n",
       "        [0.3032, 0.5487, 0.1481],\n",
       "        [0.2700, 0.5612, 0.1688],\n",
       "        [0.2388, 0.5701, 0.1911],\n",
       "        [0.2098, 0.5753, 0.2149],\n",
       "        [0.1831, 0.5767, 0.2402],\n",
       "        [0.1588, 0.5745, 0.2667],\n",
       "        [0.1369, 0.5688, 0.2943],\n",
       "        [0.1173, 0.5599, 0.3228],\n",
       "        [0.1000, 0.5479, 0.3521],\n",
       "        [0.0847, 0.5333, 0.3820],\n",
       "        [0.0714, 0.5164, 0.4122],\n",
       "        [0.0599, 0.4975, 0.4426],\n",
       "        [0.0500, 0.4770, 0.4730],\n",
       "        [0.0415, 0.4553, 0.5032],\n",
       "        [0.0344, 0.4327, 0.5330],\n",
       "        [0.0283, 0.4095, 0.5622],\n",
       "        [0.0232, 0.3860, 0.5907],\n",
       "        [0.0190, 0.3626, 0.6184],\n",
       "        [0.0155, 0.3394, 0.6451],\n",
       "        [0.0126, 0.3166, 0.6708],\n",
       "        [0.0102, 0.2945, 0.6953],\n",
       "        [0.0082, 0.2731, 0.7187],\n",
       "        [0.0066, 0.2526, 0.7408],\n",
       "        [0.0053, 0.2330, 0.7617]], grad_fn=<SoftmaxBackward>)"
      ]
     },
     "execution_count": 17,
     "metadata": {},
     "output_type": "execute_result"
    }
   ],
   "source": [
    "probability = Softmax_fn(z)\n",
    "probability"
   ]
  },
  {
   "cell_type": "code",
   "execution_count": 22,
   "metadata": {},
   "outputs": [
    {
     "name": "stdout",
     "output_type": "stream",
     "text": [
      "probability of class 0 is given by  0.8288070559501648\n",
      "probability of class 1 is given by  0.16341561079025269\n",
      "probability of class 2 is given by  0.007777405437082052\n"
     ]
    }
   ],
   "source": [
    "for i in range(3):\n",
    "    print(\"probability of class {} is given by  {}\".format(i, probability[0,i]) )"
   ]
  },
  {
   "cell_type": "code",
   "execution_count": 23,
   "metadata": {},
   "outputs": [
    {
     "data": {
      "image/png": "[encoded data removed]",
      "text/plain": [
       "<Figure size 432x288 with 1 Axes>"
      ]
     },
     "metadata": {
      "needs_background": "light"
     },
     "output_type": "display_data"
    },
    {
     "data": {
      "image/png": "[encoded data removed]",
      "text/plain": [
       "<Figure size 432x288 with 1 Axes>"
      ]
     },
     "metadata": {
      "needs_background": "light"
     },
     "output_type": "display_data"
    }
   ],
   "source": [
    "LOSS = []\n",
    "def train_model(epochs):\n",
    "    for epoch in range(epochs):\n",
    "        if epoch % 50 == 0:\n",
    "            plot_data(data_set, model)\n",
    "        for x, y in trainloader:\n",
    "            optimizer.zero_grad()\n",
    "            yhat = model(x)\n",
    "            loss = criterion(yhat, y)\n",
    "            LOSS.append(loss)\n",
    "            loss.backward()\n",
    "            optimizer.step()\n",
    "train_model(100)"
   ]
  },
  {
   "cell_type": "code",
   "execution_count": 24,
   "metadata": {},
   "outputs": [
    {
     "data": {
      "text/plain": [
       "0.95"
      ]
     },
     "execution_count": 24,
     "metadata": {},
     "output_type": "execute_result"
    }
   ],
   "source": [
    "z = model(data_set.x)\n",
    "correct = (data_set.y == yhat).sum().item()\n",
    "accuracy = correct / len(data_set)\n",
    "accuracy"
   ]
  }
 ],
 "metadata": {
  "kernelspec": {
   "display_name": "Python 3",
   "language": "python",
   "name": "python3"
  },
  "language_info": {
   "codemirror_mode": {
    "name": "ipython",
    "version": 3
   },
   "file_extension": ".py",
   "mimetype": "text/x-python",
   "name": "python",
   "nbconvert_exporter": "python",
   "pygments_lexer": "ipython3",
   "version": "3.8.3"
  }
 },
 "nbformat": 4,
 "nbformat_minor": 4
}
